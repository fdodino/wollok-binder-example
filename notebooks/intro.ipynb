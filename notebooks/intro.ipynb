{
  "cells": [
    {
      "cell_type": "markdown",
      "metadata": {},
      "source": [
        "# Ejemplo con Wollok Kernel\n",
        "Este notebook usa el kernel Wollok para ejecutar código en el lenguaje Wollok."
      ]
    },
    {
      "cell_type": "code",
      "execution_count": null,
      "metadata": {},
      "outputs": [],
      "source": [
        "2.even()"
      ]
    }
  ],
  "metadata": {
    "kernelspec": {
      "display_name": "Wollok",
      "language": "wollok",
      "name": "wollok"
    },
    "language_info": {
      "name": "wollok"
    }
  },
  "nbformat": 4,
  "nbformat_minor": 5
}
